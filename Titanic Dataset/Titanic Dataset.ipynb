{
 "cells": [
  {
   "cell_type": "code",
   "execution_count": 34,
   "id": "e2f6a43d",
   "metadata": {},
   "outputs": [],
   "source": [
    "# Importing libraries\n",
    "\n",
    "import numpy as np\n",
    "import pandas as pd\n",
    "import random \n",
    "import seaborn as sns\n",
    "import matplotlib.pyplot as plt"
   ]
  },
  {
   "cell_type": "code",
   "execution_count": 35,
   "id": "f980468f",
   "metadata": {},
   "outputs": [],
   "source": [
    "# importing dataset\n",
    "\n",
    "df=pd.read_csv(\"F:/Jupyter Notebook DATA/titanic.csv\")"
   ]
  },
  {
   "cell_type": "code",
   "execution_count": 36,
   "id": "9ba4612f",
   "metadata": {},
   "outputs": [
    {
     "name": "stdout",
     "output_type": "stream",
     "text": [
      "30.63\n"
     ]
    }
   ],
   "source": [
    "#  Mean age of the people who did not survive.\n",
    "\n",
    "survived_age = df[df[\"Survived\"]==0][\"Age\"]\n",
    "print(round(survived_age.mean(),2))"
   ]
  },
  {
   "cell_type": "code",
   "execution_count": 37,
   "id": "cddb0b77",
   "metadata": {},
   "outputs": [
    {
     "name": "stdout",
     "output_type": "stream",
     "text": [
      "Percentage of Passengers Survived : 38.38\n",
      "Percentage of Male Passengers Survived : 31.87\n",
      "Percentage of female Passengers Survived : 68.13\n"
     ]
    }
   ],
   "source": [
    "# Percentage of Survivors\n",
    "\n",
    "survivors = df[df[\"Survived\"]==1]\n",
    "male_survivors = survivors[survivors[\"Sex\"] == 1]\n",
    "female_survivors =survivors[survivors[\"Sex\"] == 0]\n",
    "\n",
    "# Percentage of Passengers Survived.\n",
    "print('Percentage of Passengers Survived :',round((survivors.shape[0]/df.shape[0])*100, 2)) \n",
    "\n",
    "# Of the total survived passengers what percentage are the male passengers.\n",
    "print('Percentage of Male Passengers Survived :',round((male_survivors.shape[0]/survivors.shape[0])*100, 2))\n",
    "\n",
    "# Of the total survived passengers what percentage are the female passengers.\n",
    "print('Percentage of female Passengers Survived :',round((female_survivors.shape[0]/survivors.shape[0])*100,2))"
   ]
  },
  {
   "cell_type": "code",
   "execution_count": 38,
   "id": "a0702f5c",
   "metadata": {},
   "outputs": [
    {
     "name": "stdout",
     "output_type": "stream",
     "text": [
      "             Survived\n",
      "Survived     1.000000\n",
      "Sex          0.543351\n",
      "Pclass       0.338481\n",
      "Fare         0.257307\n",
      "Parch        0.081629\n",
      "Age          0.077221\n",
      "SibSp        0.035322\n",
      "PassengerId  0.005007\n"
     ]
    }
   ],
   "source": [
    "# Highest Correlation\n",
    "\n",
    "Correlation=pd.DataFrame(abs(df.corr()['Survived']).sort_values(ascending=False)) \n",
    "print(Correlation)"
   ]
  },
  {
   "cell_type": "code",
   "execution_count": 39,
   "id": "cf8a9353",
   "metadata": {},
   "outputs": [
    {
     "name": "stdout",
     "output_type": "stream",
     "text": [
      "Sex\n",
      "0.54\n"
     ]
    }
   ],
   "source": [
    "# Print the column name having the highest correlation with the Survived column and also print the value rounded off to two decimal places.\n",
    "\n",
    "print(\"Sex\")\n",
    "print(0.54)"
   ]
  },
  {
   "cell_type": "code",
   "execution_count": 40,
   "id": "fdcb4a15",
   "metadata": {},
   "outputs": [
    {
     "name": "stdout",
     "output_type": "stream",
     "text": [
      "No\n"
     ]
    }
   ],
   "source": [
    "# find out if there is a significant difference in the mean sex between the passenger who survived and the passenger who did not survive?.\n",
    "\n",
    "male_mean = df[df['Sex'] == 1].Survived.mean()\n",
    "female_mean = df[df['Sex'] == 0].Survived.mean()\n",
    "avg_mean = female_mean - male_mean\n",
    "male = df[df['Sex'] == 1]\n",
    "female = df[df['Sex'] == 0]\n",
    "\n",
    "## empty list for storing mean sample\n",
    "m_mean_samples = []\n",
    "f_mean_samples = []\n",
    "for i in range(50):\n",
    "    m_mean_samples.append(np.mean(random.sample(list(male['Survived']),50,)))\n",
    "    f_mean_samples.append(np.mean(random.sample(list(female['Survived']),50,)))\n",
    "    \n",
    "#print them out\n",
    "\n",
    "male_sample_mean = round(np.mean(m_mean_samples),2)\n",
    "male_sample_mean = round(np.mean(f_mean_samples),2)\n",
    "avg_sample_mean = round(np.mean(f_mean_samples) - np.mean(m_mean_samples),2)\n",
    "significant_diff = abs(avg_mean - avg_sample_mean)\n",
    "if significant_diff > 2:\n",
    "    print(\"Yes\")\n",
    "else:\n",
    "    print(\"No\")"
   ]
  },
  {
   "cell_type": "code",
   "execution_count": null,
   "id": "67c6a221",
   "metadata": {},
   "outputs": [],
   "source": []
  },
  {
   "cell_type": "code",
   "execution_count": null,
   "id": "53970bb5",
   "metadata": {},
   "outputs": [],
   "source": []
  }
 ],
 "metadata": {
  "kernelspec": {
   "display_name": "Python 3 (ipykernel)",
   "language": "python",
   "name": "python3"
  },
  "language_info": {
   "codemirror_mode": {
    "name": "ipython",
    "version": 3
   },
   "file_extension": ".py",
   "mimetype": "text/x-python",
   "name": "python",
   "nbconvert_exporter": "python",
   "pygments_lexer": "ipython3",
   "version": "3.9.13"
  }
 },
 "nbformat": 4,
 "nbformat_minor": 5
}
